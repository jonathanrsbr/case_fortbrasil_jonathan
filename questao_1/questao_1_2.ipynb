{
 "cells": [
  {
   "cell_type": "markdown",
   "metadata": {},
   "source": [
    " <img src = \"https://sasquadportador.blob.core.windows.net/general-images/header-blog-1.png\" > \n",
    "\n",
    "# Seleção Estagiário Data Science - Jonathan\n",
    "\n",
    "###  QUESTÃO 1.2\n",
    "\n",
    "### Aqui será gerada uma base nova, contendo as seguintes colunas novas:\n",
    "\n",
    "QTD_FATURAS_ULT_6M\n",
    " - Total de faturas emitidas nos últimos 6 meses (sem contar com a fatura de setembro)\n",
    "\n",
    "VL_MEDIO_FATURA\n",
    " - O valor médio de fatura nos últimos 6 meses (sem contar com a fatura de setembro)\t\n",
    "\n",
    "QTD_FATURAS_ULT_6M_FX1\n",
    " - Quantidade de vezes que ele ficou sem pagar a fatura anterior nos últimos 6 meses (sem contar com a fatura de setembro)"
   ]
  },
  {
   "cell_type": "markdown",
   "metadata": {},
   "source": [
    "Importações"
   ]
  },
  {
   "cell_type": "code",
   "execution_count": null,
   "metadata": {},
   "outputs": [],
   "source": [
    "\n",
    "import pandas as pd\n",
    "import seaborn as sns\n",
    "import matplotlib.pyplot as plt\n",
    "import numpy as np\n",
    "\n",
    "# Variável do dadosq_q12 para a questão 1.2\n",
    "\n",
    "dadosq_q12 = pd.read_csv('Questão 1 - Base.txt',delimiter='\\t')\n",
    "\n",
    "dadosq_q12"
   ]
  },
  {
   "cell_type": "markdown",
   "metadata": {},
   "source": [
    "Clientes com fatura em setembro"
   ]
  },
  {
   "cell_type": "code",
   "execution_count": null,
   "metadata": {},
   "outputs": [],
   "source": [
    "# Variável com todos os clientes com faturas em Setembro (Mês 9) - total_Com9\n",
    "\n",
    "total_com9 = file['ID_CONTA'][pd.DatetimeIndex(file['DT_VENCIMENTO']).month.isin([9])]\n",
    "\n",
    "total_com9_df = pd.DataFrame(total_com9)\n",
    "\n",
    "total_com9_df"
   ]
  }
 ],
 "metadata": {
  "language_info": {
   "name": "python"
  },
  "orig_nbformat": 4
 },
 "nbformat": 4,
 "nbformat_minor": 2
}
