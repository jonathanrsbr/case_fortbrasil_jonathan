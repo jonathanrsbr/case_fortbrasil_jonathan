{
 "cells": [
  {
   "cell_type": "markdown",
   "metadata": {},
   "source": [
    "# Modelo preditivo\n",
    "\n",
    "Para ajudar a fomentar o que foi apresentado como resposta da questão dois, segue um modelo de Regressão Logística"
   ]
  },
  {
   "cell_type": "code",
   "execution_count": 1,
   "metadata": {},
   "outputs": [
    {
     "data": {
      "text/plain": [
       "0.9704272537679909"
      ]
     },
     "execution_count": 1,
     "metadata": {},
     "output_type": "execute_result"
    }
   ],
   "source": [
    "import pandas as pd\n",
    "from sklearn.linear_model import LogisticRegression\n",
    "from sklearn.model_selection import cross_val_score\n",
    "\n",
    "df = pd.read_csv(\"Questão 2 - Base 1.txt\",delimiter=\"\\t\")\n",
    "\n",
    "df_aux = df.drop('DT_ACORDO',axis=1) \n",
    "clf = LogisticRegression(max_iter=200)\n",
    "\n",
    "X = df_aux.drop('RESPOSTA',axis=1) \n",
    "\n",
    "y = df['RESPOSTA']\n",
    "\n",
    "# Validação \n",
    "\n",
    "score = cross_val_score(clf, X,y,cv=5, scoring='accuracy')\n",
    "\n",
    "score.mean()\n"
   ]
  }
 ],
 "metadata": {
  "kernelspec": {
   "display_name": "Python 3.9.12 ('base')",
   "language": "python",
   "name": "python3"
  },
  "language_info": {
   "codemirror_mode": {
    "name": "ipython",
    "version": 3
   },
   "file_extension": ".py",
   "mimetype": "text/x-python",
   "name": "python",
   "nbconvert_exporter": "python",
   "pygments_lexer": "ipython3",
   "version": "3.9.7"
  },
  "orig_nbformat": 4,
  "vscode": {
   "interpreter": {
    "hash": "f49206fcf84a9145e7e21228cbafa911d1ac18292303b01e865d8267a9c448f7"
   }
  }
 },
 "nbformat": 4,
 "nbformat_minor": 2
}
