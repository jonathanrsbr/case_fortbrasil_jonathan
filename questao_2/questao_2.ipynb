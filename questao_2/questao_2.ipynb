{
 "cells": [
  {
   "cell_type": "markdown",
   "metadata": {},
   "source": [
    " <img src = \"https://sasquadportador.blob.core.windows.net/general-images/header-blog-1.png\" > \n",
    "\n",
    "# Seleção Estagiário Data Science - Jonathan\n",
    "\n",
    "###  QUESTÃO 2.1"
   ]
  },
  {
   "cell_type": "markdown",
   "metadata": {},
   "source": [
    "Importações"
   ]
  },
  {
   "cell_type": "code",
   "execution_count": 50,
   "metadata": {},
   "outputs": [],
   "source": [
    "import pandas as pd\n",
    "import numpy as np\n",
    "\n",
    "file_1 = pd.read_csv(\"Questão 2 - Base 1.txt\",delimiter=\"\\t\")\n",
    "#file_2 = pd.read_csv(\"Questão 2 - Base 2.txt\",delimiter=\"\\t\")\n",
    "#file_3 = pd.read_csv(\"Questão 2 - Base 3.txt\",delimiter=\"\\t\")\n",
    "#file_4 = pd.read_csv(\"Questão 2 - Base 4.txt\",delimiter=\"\\t\")\n",
    "#file_5 = pd.read_csv(\"Questão 2 - Base 5.txt\",delimiter=\"\\t\")\n",
    "\n",
    "df_1 = pd.DataFrame(file_1)\n",
    "#df_2 = pd.DataFrame(file_2)\n",
    "#df_3 = pd.DataFrame(file_3)\n",
    "#df_4 = pd.DataFrame(file_4)\n",
    "#df_5 = pd.DataFrame(file_5)\n",
    "\n"
   ]
  },
  {
   "cell_type": "markdown",
   "metadata": {},
   "source": [
    "Visualização do primeiro dataframe com head"
   ]
  },
  {
   "cell_type": "code",
   "execution_count": 51,
   "metadata": {},
   "outputs": [
    {
     "data": {
      "text/html": [
       "<div>\n",
       "<style scoped>\n",
       "    .dataframe tbody tr th:only-of-type {\n",
       "        vertical-align: middle;\n",
       "    }\n",
       "\n",
       "    .dataframe tbody tr th {\n",
       "        vertical-align: top;\n",
       "    }\n",
       "\n",
       "    .dataframe thead th {\n",
       "        text-align: right;\n",
       "    }\n",
       "</style>\n",
       "<table border=\"1\" class=\"dataframe\">\n",
       "  <thead>\n",
       "    <tr style=\"text-align: right;\">\n",
       "      <th></th>\n",
       "      <th>ID_CONTA</th>\n",
       "      <th>DT_ACORDO</th>\n",
       "      <th>NU_DIAS_ATRASO</th>\n",
       "      <th>VALOR_CRELIQ</th>\n",
       "      <th>DIVIDA_ATUAL</th>\n",
       "      <th>RESPOSTA</th>\n",
       "    </tr>\n",
       "  </thead>\n",
       "  <tbody>\n",
       "    <tr>\n",
       "      <th>0</th>\n",
       "      <td>1194908</td>\n",
       "      <td>2018-11-22</td>\n",
       "      <td>221</td>\n",
       "      <td>324.38</td>\n",
       "      <td>463.73</td>\n",
       "      <td>0</td>\n",
       "    </tr>\n",
       "    <tr>\n",
       "      <th>1</th>\n",
       "      <td>1447997</td>\n",
       "      <td>2018-11-22</td>\n",
       "      <td>191</td>\n",
       "      <td>334.82</td>\n",
       "      <td>451.56</td>\n",
       "      <td>1</td>\n",
       "    </tr>\n",
       "    <tr>\n",
       "      <th>2</th>\n",
       "      <td>1035415</td>\n",
       "      <td>2018-11-22</td>\n",
       "      <td>252</td>\n",
       "      <td>1682.26</td>\n",
       "      <td>2554.18</td>\n",
       "      <td>0</td>\n",
       "    </tr>\n",
       "    <tr>\n",
       "      <th>3</th>\n",
       "      <td>1069434</td>\n",
       "      <td>2018-11-22</td>\n",
       "      <td>231</td>\n",
       "      <td>1625.01</td>\n",
       "      <td>2368.65</td>\n",
       "      <td>0</td>\n",
       "    </tr>\n",
       "    <tr>\n",
       "      <th>4</th>\n",
       "      <td>1427566</td>\n",
       "      <td>2018-11-22</td>\n",
       "      <td>270</td>\n",
       "      <td>320.07</td>\n",
       "      <td>503.25</td>\n",
       "      <td>0</td>\n",
       "    </tr>\n",
       "    <tr>\n",
       "      <th>5</th>\n",
       "      <td>1114924</td>\n",
       "      <td>2018-11-22</td>\n",
       "      <td>301</td>\n",
       "      <td>1458.19</td>\n",
       "      <td>2435.04</td>\n",
       "      <td>0</td>\n",
       "    </tr>\n",
       "    <tr>\n",
       "      <th>6</th>\n",
       "      <td>1344763</td>\n",
       "      <td>2018-11-22</td>\n",
       "      <td>262</td>\n",
       "      <td>493.42</td>\n",
       "      <td>763.84</td>\n",
       "      <td>0</td>\n",
       "    </tr>\n",
       "    <tr>\n",
       "      <th>7</th>\n",
       "      <td>1299566</td>\n",
       "      <td>2018-11-22</td>\n",
       "      <td>311</td>\n",
       "      <td>864.53</td>\n",
       "      <td>1471.99</td>\n",
       "      <td>0</td>\n",
       "    </tr>\n",
       "    <tr>\n",
       "      <th>8</th>\n",
       "      <td>981592</td>\n",
       "      <td>2018-11-22</td>\n",
       "      <td>280</td>\n",
       "      <td>343.80</td>\n",
       "      <td>551.17</td>\n",
       "      <td>0</td>\n",
       "    </tr>\n",
       "    <tr>\n",
       "      <th>9</th>\n",
       "      <td>1389426</td>\n",
       "      <td>2018-11-22</td>\n",
       "      <td>196</td>\n",
       "      <td>589.92</td>\n",
       "      <td>803.37</td>\n",
       "      <td>0</td>\n",
       "    </tr>\n",
       "  </tbody>\n",
       "</table>\n",
       "</div>"
      ],
      "text/plain": [
       "   ID_CONTA   DT_ACORDO  NU_DIAS_ATRASO  VALOR_CRELIQ  DIVIDA_ATUAL  RESPOSTA\n",
       "0   1194908  2018-11-22             221        324.38        463.73         0\n",
       "1   1447997  2018-11-22             191        334.82        451.56         1\n",
       "2   1035415  2018-11-22             252       1682.26       2554.18         0\n",
       "3   1069434  2018-11-22             231       1625.01       2368.65         0\n",
       "4   1427566  2018-11-22             270        320.07        503.25         0\n",
       "5   1114924  2018-11-22             301       1458.19       2435.04         0\n",
       "6   1344763  2018-11-22             262        493.42        763.84         0\n",
       "7   1299566  2018-11-22             311        864.53       1471.99         0\n",
       "8    981592  2018-11-22             280        343.80        551.17         0\n",
       "9   1389426  2018-11-22             196        589.92        803.37         0"
      ]
     },
     "execution_count": 51,
     "metadata": {},
     "output_type": "execute_result"
    }
   ],
   "source": [
    "df_1.head(10)"
   ]
  },
  {
   "cell_type": "markdown",
   "metadata": {},
   "source": [
    "Info para checar se não há erros nas colunas do df_1"
   ]
  },
  {
   "cell_type": "code",
   "execution_count": 52,
   "metadata": {},
   "outputs": [
    {
     "name": "stdout",
     "output_type": "stream",
     "text": [
      "<class 'pandas.core.frame.DataFrame'>\n",
      "RangeIndex: 72533 entries, 0 to 72532\n",
      "Data columns (total 6 columns):\n",
      " #   Column          Non-Null Count  Dtype  \n",
      "---  ------          --------------  -----  \n",
      " 0   ID_CONTA        72533 non-null  int64  \n",
      " 1   DT_ACORDO       72533 non-null  object \n",
      " 2   NU_DIAS_ATRASO  72533 non-null  int64  \n",
      " 3   VALOR_CRELIQ    72533 non-null  float64\n",
      " 4   DIVIDA_ATUAL    72533 non-null  float64\n",
      " 5   RESPOSTA        72533 non-null  int64  \n",
      "dtypes: float64(2), int64(3), object(1)\n",
      "memory usage: 3.3+ MB\n"
     ]
    }
   ],
   "source": [
    "df_1.info()"
   ]
  },
  {
   "cell_type": "markdown",
   "metadata": {},
   "source": [
    "Visualizando o intervalo de tempo na primeira base"
   ]
  },
  {
   "cell_type": "code",
   "execution_count": 53,
   "metadata": {},
   "outputs": [
    {
     "name": "stdout",
     "output_type": "stream",
     "text": [
      "2018-11-22\n",
      "2019-06-04\n"
     ]
    }
   ],
   "source": [
    "print(min(df_1[\"DT_ACORDO\"]))\n",
    "\n",
    "print(max(df_1[\"DT_ACORDO\"]))"
   ]
  },
  {
   "cell_type": "markdown",
   "metadata": {},
   "source": [
    "Separando os dataframes de acordo com o ano"
   ]
  },
  {
   "cell_type": "code",
   "execution_count": 54,
   "metadata": {},
   "outputs": [
    {
     "data": {
      "text/html": [
       "<div>\n",
       "<style scoped>\n",
       "    .dataframe tbody tr th:only-of-type {\n",
       "        vertical-align: middle;\n",
       "    }\n",
       "\n",
       "    .dataframe tbody tr th {\n",
       "        vertical-align: top;\n",
       "    }\n",
       "\n",
       "    .dataframe thead th {\n",
       "        text-align: right;\n",
       "    }\n",
       "</style>\n",
       "<table border=\"1\" class=\"dataframe\">\n",
       "  <thead>\n",
       "    <tr style=\"text-align: right;\">\n",
       "      <th></th>\n",
       "      <th>ID_CONTA</th>\n",
       "      <th>DT_ACORDO</th>\n",
       "      <th>RESPOSTA</th>\n",
       "    </tr>\n",
       "  </thead>\n",
       "  <tbody>\n",
       "    <tr>\n",
       "      <th>0</th>\n",
       "      <td>1194908</td>\n",
       "      <td>2018-11-22</td>\n",
       "      <td>0</td>\n",
       "    </tr>\n",
       "    <tr>\n",
       "      <th>1</th>\n",
       "      <td>1447997</td>\n",
       "      <td>2018-11-22</td>\n",
       "      <td>1</td>\n",
       "    </tr>\n",
       "    <tr>\n",
       "      <th>2</th>\n",
       "      <td>1035415</td>\n",
       "      <td>2018-11-22</td>\n",
       "      <td>0</td>\n",
       "    </tr>\n",
       "    <tr>\n",
       "      <th>3</th>\n",
       "      <td>1069434</td>\n",
       "      <td>2018-11-22</td>\n",
       "      <td>0</td>\n",
       "    </tr>\n",
       "    <tr>\n",
       "      <th>4</th>\n",
       "      <td>1427566</td>\n",
       "      <td>2018-11-22</td>\n",
       "      <td>0</td>\n",
       "    </tr>\n",
       "    <tr>\n",
       "      <th>...</th>\n",
       "      <td>...</td>\n",
       "      <td>...</td>\n",
       "      <td>...</td>\n",
       "    </tr>\n",
       "    <tr>\n",
       "      <th>17994</th>\n",
       "      <td>1226599</td>\n",
       "      <td>2018-11-22</td>\n",
       "      <td>0</td>\n",
       "    </tr>\n",
       "    <tr>\n",
       "      <th>17995</th>\n",
       "      <td>1227154</td>\n",
       "      <td>2018-11-22</td>\n",
       "      <td>0</td>\n",
       "    </tr>\n",
       "    <tr>\n",
       "      <th>17996</th>\n",
       "      <td>1227404</td>\n",
       "      <td>2018-11-22</td>\n",
       "      <td>0</td>\n",
       "    </tr>\n",
       "    <tr>\n",
       "      <th>17997</th>\n",
       "      <td>1240172</td>\n",
       "      <td>2018-11-22</td>\n",
       "      <td>0</td>\n",
       "    </tr>\n",
       "    <tr>\n",
       "      <th>17998</th>\n",
       "      <td>1240340</td>\n",
       "      <td>2018-11-22</td>\n",
       "      <td>0</td>\n",
       "    </tr>\n",
       "  </tbody>\n",
       "</table>\n",
       "<p>17999 rows × 3 columns</p>\n",
       "</div>"
      ],
      "text/plain": [
       "       ID_CONTA   DT_ACORDO  RESPOSTA\n",
       "0       1194908  2018-11-22         0\n",
       "1       1447997  2018-11-22         1\n",
       "2       1035415  2018-11-22         0\n",
       "3       1069434  2018-11-22         0\n",
       "4       1427566  2018-11-22         0\n",
       "...         ...         ...       ...\n",
       "17994   1226599  2018-11-22         0\n",
       "17995   1227154  2018-11-22         0\n",
       "17996   1227404  2018-11-22         0\n",
       "17997   1240172  2018-11-22         0\n",
       "17998   1240340  2018-11-22         0\n",
       "\n",
       "[17999 rows x 3 columns]"
      ]
     },
     "execution_count": 54,
     "metadata": {},
     "output_type": "execute_result"
    }
   ],
   "source": [
    "max_year = max(pd.DatetimeIndex(df_1['DT_ACORDO']).year)\n",
    "min_year = min(pd.DatetimeIndex(df_1['DT_ACORDO']).year)\n",
    "contas_2018 = df_1[['ID_CONTA' , 'DT_ACORDO', 'RESPOSTA'] ] [pd.DatetimeIndex(df_1['DT_ACORDO']).year.isin([min_year]) ]\n",
    "contas_2019 = df_1[['ID_CONTA' , 'DT_ACORDO', 'RESPOSTA'] ] [pd.DatetimeIndex(df_1['DT_ACORDO']).year.isin([max_year]) ]\n",
    "\n",
    "# Visualização de teste com o ano 2018\n",
    "\n",
    "contas_2018\n"
   ]
  },
  {
   "cell_type": "markdown",
   "metadata": {},
   "source": [
    "Faixa Total de número de dias de atraso"
   ]
  },
  {
   "cell_type": "code",
   "execution_count": 55,
   "metadata": {},
   "outputs": [
    {
     "data": {
      "text/plain": [
       "[451, 541]"
      ]
     },
     "execution_count": 55,
     "metadata": {},
     "output_type": "execute_result"
    }
   ],
   "source": [
    "# Aqui foram criadas as variáveis contendo o número mínimo e máximo de dias de atraso\n",
    "\n",
    "min_atraso = min(df_1['NU_DIAS_ATRASO'])\n",
    "max_atraso = max(df_1['NU_DIAS_ATRASO'])\n",
    "\n",
    "# 4 faixas foram criadas, distando em 90 dias \n",
    "\n",
    "faixa_1 = [min_atraso, min_atraso + 90]     # O array demonstra dois números. Intervalo entre [0] e [1]\n",
    "faixa_2 = [faixa_1[1], min_atraso + 2*90]\n",
    "faixa_3 = [faixa_2[1], min_atraso + 3*90]\n",
    "faixa_4 = [faixa_3[1], min_atraso + 4*90]\n",
    "\n",
    "# Visualização teste com a faixa_4\n",
    "\n",
    "faixa_4\n",
    "\n",
    "# Todos os valores com os formatos corretos, porém a data está em object "
   ]
  },
  {
   "cell_type": "markdown",
   "metadata": {},
   "source": [
    "Faixas criadas de acordo com um \"range\" e fazendo os cálculos de resposta da questão "
   ]
  },
  {
   "cell_type": "code",
   "execution_count": 56,
   "metadata": {},
   "outputs": [
    {
     "name": "stderr",
     "output_type": "stream",
     "text": [
      "C:\\Users\\JONATHAN\\AppData\\Local\\Temp/ipykernel_11408/4009195154.py:4: UserWarning: Boolean Series key will be reindexed to match DataFrame index.\n",
      "  df_faixa_2 = df_1[['DT_ACORDO','NU_DIAS_ATRASO','RESPOSTA']][df_1['NU_DIAS_ATRASO'] >= faixa_2[0] ][df_1['NU_DIAS_ATRASO'] < faixa_2[1] ]\n",
      "C:\\Users\\JONATHAN\\AppData\\Local\\Temp/ipykernel_11408/4009195154.py:5: UserWarning: Boolean Series key will be reindexed to match DataFrame index.\n",
      "  df_faixa_3 = df_1[['DT_ACORDO','NU_DIAS_ATRASO','RESPOSTA']][df_1['NU_DIAS_ATRASO'] >= faixa_3[0] ][df_1['NU_DIAS_ATRASO'] < faixa_3[1] ]\n",
      "C:\\Users\\JONATHAN\\AppData\\Local\\Temp/ipykernel_11408/4009195154.py:6: UserWarning: Boolean Series key will be reindexed to match DataFrame index.\n",
      "  df_faixa_4 = df_1[['DT_ACORDO','NU_DIAS_ATRASO','RESPOSTA']][df_1['NU_DIAS_ATRASO'] >= faixa_4[0] ][df_1['NU_DIAS_ATRASO'] < faixa_4[1] ]\n"
     ]
    },
    {
     "data": {
      "text/html": [
       "<div>\n",
       "<style scoped>\n",
       "    .dataframe tbody tr th:only-of-type {\n",
       "        vertical-align: middle;\n",
       "    }\n",
       "\n",
       "    .dataframe tbody tr th {\n",
       "        vertical-align: top;\n",
       "    }\n",
       "\n",
       "    .dataframe thead th {\n",
       "        text-align: right;\n",
       "    }\n",
       "</style>\n",
       "<table border=\"1\" class=\"dataframe\">\n",
       "  <thead>\n",
       "    <tr style=\"text-align: right;\">\n",
       "      <th></th>\n",
       "      <th>DT_ACORDO</th>\n",
       "      <th>SOMA_POR_FAIXA_4</th>\n",
       "      <th>SOMA_MES</th>\n",
       "      <th>PERCENTUAL_FAIXA_4</th>\n",
       "    </tr>\n",
       "  </thead>\n",
       "  <tbody>\n",
       "    <tr>\n",
       "      <th>0</th>\n",
       "      <td>2019-03-20</td>\n",
       "      <td>34</td>\n",
       "      <td>166</td>\n",
       "      <td>0.057922</td>\n",
       "    </tr>\n",
       "    <tr>\n",
       "      <th>1</th>\n",
       "      <td>2019-03-21</td>\n",
       "      <td>1</td>\n",
       "      <td>21</td>\n",
       "      <td>0.006024</td>\n",
       "    </tr>\n",
       "    <tr>\n",
       "      <th>2</th>\n",
       "      <td>2019-03-22</td>\n",
       "      <td>23</td>\n",
       "      <td>123</td>\n",
       "      <td>1.095238</td>\n",
       "    </tr>\n",
       "    <tr>\n",
       "      <th>3</th>\n",
       "      <td>2019-04-04</td>\n",
       "      <td>28</td>\n",
       "      <td>283</td>\n",
       "      <td>0.227642</td>\n",
       "    </tr>\n",
       "    <tr>\n",
       "      <th>4</th>\n",
       "      <td>2019-06-03</td>\n",
       "      <td>85</td>\n",
       "      <td>755</td>\n",
       "      <td>0.300353</td>\n",
       "    </tr>\n",
       "    <tr>\n",
       "      <th>5</th>\n",
       "      <td>2019-06-04</td>\n",
       "      <td>8</td>\n",
       "      <td>210</td>\n",
       "      <td>0.010596</td>\n",
       "    </tr>\n",
       "  </tbody>\n",
       "</table>\n",
       "</div>"
      ],
      "text/plain": [
       "    DT_ACORDO  SOMA_POR_FAIXA_4  SOMA_MES  PERCENTUAL_FAIXA_4\n",
       "0  2019-03-20                34       166            0.057922\n",
       "1  2019-03-21                 1        21            0.006024\n",
       "2  2019-03-22                23       123            1.095238\n",
       "3  2019-04-04                28       283            0.227642\n",
       "4  2019-06-03                85       755            0.300353\n",
       "5  2019-06-04                 8       210            0.010596"
      ]
     },
     "execution_count": 56,
     "metadata": {},
     "output_type": "execute_result"
    }
   ],
   "source": [
    "# Criando os dataframes com as colunas 'DT_ACORDO','NU_DIAS_ATRASO', 'RESPOSTA' corresponde as faixas definidas\n",
    "\n",
    "df_faixa_1 = df_1[['DT_ACORDO','NU_DIAS_ATRASO', 'RESPOSTA']][df_1['NU_DIAS_ATRASO'] >= faixa_1[0] ][df_1['NU_DIAS_ATRASO'] < faixa_1[1] ]\n",
    "df_faixa_2 = df_1[['DT_ACORDO','NU_DIAS_ATRASO','RESPOSTA']][df_1['NU_DIAS_ATRASO'] >= faixa_2[0] ][df_1['NU_DIAS_ATRASO'] < faixa_2[1] ]\n",
    "df_faixa_3 = df_1[['DT_ACORDO','NU_DIAS_ATRASO','RESPOSTA']][df_1['NU_DIAS_ATRASO'] >= faixa_3[0] ][df_1['NU_DIAS_ATRASO'] < faixa_3[1] ]\n",
    "df_faixa_4 = df_1[['DT_ACORDO','NU_DIAS_ATRASO','RESPOSTA']][df_1['NU_DIAS_ATRASO'] >= faixa_4[0] ][df_1['NU_DIAS_ATRASO'] < faixa_4[1] ]\n",
    "\n",
    "# Criando dataframe para descobrir a quantidade de adesões por mês\n",
    "df = df_1.groupby(['DT_ACORDO'],as_index=False)['RESPOSTA'].sum()\n",
    "df = pd.DataFrame(df).rename(columns={'RESPOSTA': 'SOMA_MES'})\n",
    "\n",
    "#Criando dataframes para descobrir a quantidade de adesão por faixa\n",
    "df_r_faixa_1 = df_faixa_1.groupby(['DT_ACORDO'],as_index=False)['RESPOSTA'].sum()\n",
    "df_r_faixa_1 = pd.DataFrame(df_r_faixa_1).rename(columns={'RESPOSTA': 'SOMA_POR_FAIXA_1'})\n",
    "\n",
    "df_r_faixa_2 = df_faixa_2.groupby(['DT_ACORDO'],as_index=False)['RESPOSTA'].sum()\n",
    "df_r_faixa_2 = pd.DataFrame(df_r_faixa_2).rename(columns={'RESPOSTA': 'SOMA_POR_FAIXA_2'})\n",
    "\n",
    "df_r_faixa_3 = df_faixa_3.groupby(['DT_ACORDO'],as_index=False)['RESPOSTA'].sum()\n",
    "df_r_faixa_3 = pd.DataFrame(df_r_faixa_3).rename(columns={'RESPOSTA': 'SOMA_POR_FAIXA_3'})\n",
    "\n",
    "df_r_faixa_4 = df_faixa_4.groupby(['DT_ACORDO'],as_index=False)['RESPOSTA'].sum()\n",
    "df_r_faixa_4 = pd.DataFrame(df_r_faixa_4).rename(columns={'RESPOSTA': 'SOMA_POR_FAIXA_4'})\n",
    "\n",
    "\n",
    "#df_r_faixa_1  # se quiser a adesao da primeira faixa\n",
    "#df_r_faixa_2  # se quiser a adesao da segundafaixa\n",
    "#df_r_faixa_3  # se quiser a adesao da terceira faixa\n",
    "#df_r_faixa_4  # se quiser a adesao da quarta faixa\n",
    "\n",
    "# Criando dataframe que corresponde ao percentual por faixa de cada mês \n",
    "per_df_faixa_1 = pd.merge(df_r_faixa_1,df)\n",
    "per_df_faixa_1['PERCENTUAL_FAIXA_1'] = per_df_faixa_1['SOMA_POR_FAIXA_1']/per_df_faixa_1['SOMA_MES']\n",
    "\n",
    "per_df_faixa_2 = pd.merge(df_r_faixa_2,df)\n",
    "per_df_faixa_2['PERCENTUAL_FAIXA_2'] = per_df_faixa_2['SOMA_POR_FAIXA_2']/per_df_faixa_1['SOMA_MES']\n",
    "\n",
    "per_df_faixa_3 = pd.merge(df_r_faixa_3,df)\n",
    "per_df_faixa_3['PERCENTUAL_FAIXA_3'] = per_df_faixa_3['SOMA_POR_FAIXA_3']/per_df_faixa_1['SOMA_MES']\n",
    "\n",
    "per_df_faixa_4 = pd.merge(df_r_faixa_4,df)\n",
    "per_df_faixa_4['PERCENTUAL_FAIXA_4'] = per_df_faixa_4['SOMA_POR_FAIXA_4']/per_df_faixa_1['SOMA_MES']\n",
    "\n",
    "\n",
    "per_df_faixa_1\n",
    "per_df_faixa_2\n",
    "per_df_faixa_3\n",
    "per_df_faixa_4\n",
    "\n",
    "\n",
    "   "
   ]
  },
  {
   "cell_type": "markdown",
   "metadata": {},
   "source": [
    "# QUESTÃO 2.2"
   ]
  },
  {
   "cell_type": "markdown",
   "metadata": {},
   "source": [
    "Questão 2.2: Qual modelo preditivo você utilizaria para traçar uma estratégia objetivando o aumento da adesão dos acordos? (Descreva a técnica utilizada)\n",
    "\n",
    "O modelo a ser utilizado seria Regresão Logística pelo fato de dar bons resultados quando o \"target\" a ser avaliado é do tipo binário, entre (0,1), tal qual a coluna 'REPOSTAS', que representa a adesão podendo ser 0 ou 1, desta forma o modelo ajuda a saber quais parâmetros são cruciais para o aumento da adesão dos acordos.\n",
    "\n",
    "Para utilização do modelo é necessário separar o dataset a ser usado de tal forma que tenhamos um grupo de varáveis independentes, colunas de dados para compor X, e as variáveis dependentes que será a coluna 'target' correspondente ao y.\n",
    "\n",
    "Ex: cross_val_score(Modelo, X, y, cv=10)\n",
    "\n",
    "\n",
    "Vantagens:\n",
    "\n",
    "- Facilidade para lidar com variáveis independentes\n",
    "    categóricas.\n",
    "\n",
    "- Fornece resultados em termos de probabilidade.\n",
    "\n",
    "-  Facilidade de classificação de indivíduos em\n",
    "categorias.\n",
    "\n",
    "-  Requer pequeno número de suposições.\n",
    "\n",
    "-  Alto grau de confiabilidade."
   ]
  },
  {
   "cell_type": "markdown",
   "metadata": {},
   "source": [
    "# QUESTÃO 2.3"
   ]
  },
  {
   "cell_type": "markdown",
   "metadata": {},
   "source": [
    "Questão 2.3: Quais indicadores e ferramentas você utilizaria para avaliar a performance/aderência desse modelo? (Descreva os indicadores utilizados)\n",
    "\n",
    "Acurácia: Para observar o quão acertivo é o meu modelo ao aplicálo com o dataset escolhido.\n",
    "\n",
    "Precisão: Para saber se que foi considerado acerto foi de fato acerto, para não ter falsos positivos.\n",
    "\n",
    "Quanto ao validador do modelo, utilizaria a validação cruzada para perceber caso os dados variem, se o meu modelo permanece preciso. (cross_val_score)"
   ]
  }
 ],
 "metadata": {
  "kernelspec": {
   "display_name": "Python 3.9.7 ('base')",
   "language": "python",
   "name": "python3"
  },
  "language_info": {
   "codemirror_mode": {
    "name": "ipython",
    "version": 3
   },
   "file_extension": ".py",
   "mimetype": "text/x-python",
   "name": "python",
   "nbconvert_exporter": "python",
   "pygments_lexer": "ipython3",
   "version": "3.9.7"
  },
  "orig_nbformat": 4,
  "vscode": {
   "interpreter": {
    "hash": "f49206fcf84a9145e7e21228cbafa911d1ac18292303b01e865d8267a9c448f7"
   }
  }
 },
 "nbformat": 4,
 "nbformat_minor": 2
}
