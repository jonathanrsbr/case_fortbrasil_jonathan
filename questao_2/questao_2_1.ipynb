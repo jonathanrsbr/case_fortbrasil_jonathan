{
 "cells": [
  {
   "cell_type": "markdown",
   "metadata": {},
   "source": [
    " <img src = \"https://sasquadportador.blob.core.windows.net/general-images/header-blog-1.png\" > \n",
    "\n",
    "# Seleção Estagiário Data Science - Jonathan\n",
    "\n",
    "###  QUESTÃO 2.1"
   ]
  },
  {
   "cell_type": "markdown",
   "metadata": {},
   "source": [
    "Importações"
   ]
  },
  {
   "cell_type": "code",
   "execution_count": 18,
   "metadata": {},
   "outputs": [],
   "source": [
    "import pandas as pd\n",
    "import numpy as np\n",
    "\n",
    "file_1 = pd.read_csv(\"Questão 2 - Base 1.txt\",delimiter=\"\\t\")\n",
    "file_2 = pd.read_csv(\"Questão 2 - Base 2.txt\",delimiter=\"\\t\")\n",
    "file_3 = pd.read_csv(\"Questão 2 - Base 3.txt\",delimiter=\"\\t\")\n",
    "file_4 = pd.read_csv(\"Questão 2 - Base 4.txt\",delimiter=\"\\t\")\n",
    "file_5 = pd.read_csv(\"Questão 2 - Base 5.txt\",delimiter=\"\\t\")\n",
    "\n",
    "df_1 = pd.DataFrame(file_1)\n",
    "df_2 = pd.DataFrame(file_2)\n",
    "df_3 = pd.DataFrame(file_3)\n",
    "df_4 = pd.DataFrame(file_4)\n",
    "df_5 = pd.DataFrame(file_5)\n",
    "\n"
   ]
  },
  {
   "cell_type": "markdown",
   "metadata": {},
   "source": [
    "Visualização do primeiro dataframe com head"
   ]
  },
  {
   "cell_type": "code",
   "execution_count": 19,
   "metadata": {},
   "outputs": [
    {
     "data": {
      "text/html": [
       "<div>\n",
       "<style scoped>\n",
       "    .dataframe tbody tr th:only-of-type {\n",
       "        vertical-align: middle;\n",
       "    }\n",
       "\n",
       "    .dataframe tbody tr th {\n",
       "        vertical-align: top;\n",
       "    }\n",
       "\n",
       "    .dataframe thead th {\n",
       "        text-align: right;\n",
       "    }\n",
       "</style>\n",
       "<table border=\"1\" class=\"dataframe\">\n",
       "  <thead>\n",
       "    <tr style=\"text-align: right;\">\n",
       "      <th></th>\n",
       "      <th>ID_CONTA</th>\n",
       "      <th>DT_ACORDO</th>\n",
       "      <th>NU_DIAS_ATRASO</th>\n",
       "      <th>VALOR_CRELIQ</th>\n",
       "      <th>DIVIDA_ATUAL</th>\n",
       "      <th>RESPOSTA</th>\n",
       "    </tr>\n",
       "  </thead>\n",
       "  <tbody>\n",
       "    <tr>\n",
       "      <th>0</th>\n",
       "      <td>1194908</td>\n",
       "      <td>2018-11-22</td>\n",
       "      <td>221</td>\n",
       "      <td>324.38</td>\n",
       "      <td>463.73</td>\n",
       "      <td>0</td>\n",
       "    </tr>\n",
       "    <tr>\n",
       "      <th>1</th>\n",
       "      <td>1447997</td>\n",
       "      <td>2018-11-22</td>\n",
       "      <td>191</td>\n",
       "      <td>334.82</td>\n",
       "      <td>451.56</td>\n",
       "      <td>1</td>\n",
       "    </tr>\n",
       "    <tr>\n",
       "      <th>2</th>\n",
       "      <td>1035415</td>\n",
       "      <td>2018-11-22</td>\n",
       "      <td>252</td>\n",
       "      <td>1682.26</td>\n",
       "      <td>2554.18</td>\n",
       "      <td>0</td>\n",
       "    </tr>\n",
       "    <tr>\n",
       "      <th>3</th>\n",
       "      <td>1069434</td>\n",
       "      <td>2018-11-22</td>\n",
       "      <td>231</td>\n",
       "      <td>1625.01</td>\n",
       "      <td>2368.65</td>\n",
       "      <td>0</td>\n",
       "    </tr>\n",
       "    <tr>\n",
       "      <th>4</th>\n",
       "      <td>1427566</td>\n",
       "      <td>2018-11-22</td>\n",
       "      <td>270</td>\n",
       "      <td>320.07</td>\n",
       "      <td>503.25</td>\n",
       "      <td>0</td>\n",
       "    </tr>\n",
       "    <tr>\n",
       "      <th>5</th>\n",
       "      <td>1114924</td>\n",
       "      <td>2018-11-22</td>\n",
       "      <td>301</td>\n",
       "      <td>1458.19</td>\n",
       "      <td>2435.04</td>\n",
       "      <td>0</td>\n",
       "    </tr>\n",
       "    <tr>\n",
       "      <th>6</th>\n",
       "      <td>1344763</td>\n",
       "      <td>2018-11-22</td>\n",
       "      <td>262</td>\n",
       "      <td>493.42</td>\n",
       "      <td>763.84</td>\n",
       "      <td>0</td>\n",
       "    </tr>\n",
       "    <tr>\n",
       "      <th>7</th>\n",
       "      <td>1299566</td>\n",
       "      <td>2018-11-22</td>\n",
       "      <td>311</td>\n",
       "      <td>864.53</td>\n",
       "      <td>1471.99</td>\n",
       "      <td>0</td>\n",
       "    </tr>\n",
       "    <tr>\n",
       "      <th>8</th>\n",
       "      <td>981592</td>\n",
       "      <td>2018-11-22</td>\n",
       "      <td>280</td>\n",
       "      <td>343.80</td>\n",
       "      <td>551.17</td>\n",
       "      <td>0</td>\n",
       "    </tr>\n",
       "    <tr>\n",
       "      <th>9</th>\n",
       "      <td>1389426</td>\n",
       "      <td>2018-11-22</td>\n",
       "      <td>196</td>\n",
       "      <td>589.92</td>\n",
       "      <td>803.37</td>\n",
       "      <td>0</td>\n",
       "    </tr>\n",
       "  </tbody>\n",
       "</table>\n",
       "</div>"
      ],
      "text/plain": [
       "   ID_CONTA   DT_ACORDO  NU_DIAS_ATRASO  VALOR_CRELIQ  DIVIDA_ATUAL  RESPOSTA\n",
       "0   1194908  2018-11-22             221        324.38        463.73         0\n",
       "1   1447997  2018-11-22             191        334.82        451.56         1\n",
       "2   1035415  2018-11-22             252       1682.26       2554.18         0\n",
       "3   1069434  2018-11-22             231       1625.01       2368.65         0\n",
       "4   1427566  2018-11-22             270        320.07        503.25         0\n",
       "5   1114924  2018-11-22             301       1458.19       2435.04         0\n",
       "6   1344763  2018-11-22             262        493.42        763.84         0\n",
       "7   1299566  2018-11-22             311        864.53       1471.99         0\n",
       "8    981592  2018-11-22             280        343.80        551.17         0\n",
       "9   1389426  2018-11-22             196        589.92        803.37         0"
      ]
     },
     "execution_count": 19,
     "metadata": {},
     "output_type": "execute_result"
    }
   ],
   "source": [
    "df_1.head(10)"
   ]
  },
  {
   "cell_type": "markdown",
   "metadata": {},
   "source": [
    "Info para checar se não há erros nas colunas do df_1"
   ]
  },
  {
   "cell_type": "code",
   "execution_count": 26,
   "metadata": {},
   "outputs": [
    {
     "name": "stdout",
     "output_type": "stream",
     "text": [
      "<class 'pandas.core.frame.DataFrame'>\n",
      "RangeIndex: 72533 entries, 0 to 72532\n",
      "Data columns (total 6 columns):\n",
      " #   Column          Non-Null Count  Dtype  \n",
      "---  ------          --------------  -----  \n",
      " 0   ID_CONTA        72533 non-null  int64  \n",
      " 1   DT_ACORDO       72533 non-null  object \n",
      " 2   NU_DIAS_ATRASO  72533 non-null  int64  \n",
      " 3   VALOR_CRELIQ    72533 non-null  float64\n",
      " 4   DIVIDA_ATUAL    72533 non-null  float64\n",
      " 5   RESPOSTA        72533 non-null  int64  \n",
      "dtypes: float64(2), int64(3), object(1)\n",
      "memory usage: 3.3+ MB\n"
     ]
    }
   ],
   "source": [
    "df_1.info()"
   ]
  },
  {
   "cell_type": "markdown",
   "metadata": {},
   "source": [
    "Visualizando o intervalo de tempo na primeira base"
   ]
  },
  {
   "cell_type": "code",
   "execution_count": 21,
   "metadata": {},
   "outputs": [
    {
     "name": "stdout",
     "output_type": "stream",
     "text": [
      "2018-11-22\n",
      "2019-06-04\n"
     ]
    }
   ],
   "source": [
    "print(min(df_1[\"DT_ACORDO\"]))\n",
    "\n",
    "print(max(df_1[\"DT_ACORDO\"]))"
   ]
  },
  {
   "cell_type": "markdown",
   "metadata": {},
   "source": [
    "Separando os dataframes de acordo com o ano"
   ]
  },
  {
   "cell_type": "code",
   "execution_count": null,
   "metadata": {},
   "outputs": [],
   "source": [
    "max_year = max(pd.DatetimeIndex(df_1['DT_ACORDO']).year)\n",
    "min_year = min(pd.DatetimeIndex(df_1['DT_ACORDO']).year)\n",
    "contas_2018 = df_1[['ID_CONTA' , 'DT_ACORDO', 'RESPOSTA'] ] [pd.DatetimeIndex(df_1['DT_ACORDO']).year.isin([min_year]) ]\n",
    "contas_2019 = df_1[['ID_CONTA' , 'DT_ACORDO', 'RESPOSTA'] ] [pd.DatetimeIndex(df_1['DT_ACORDO']).year.isin([max_year]) ]\n",
    "\n",
    "# Visualização de teste com o ano 2018\n",
    "\n",
    "contas_2018\n"
   ]
  },
  {
   "cell_type": "markdown",
   "metadata": {},
   "source": [
    "Faixa Total de número de dias de atraso"
   ]
  },
  {
   "cell_type": "code",
   "execution_count": 41,
   "metadata": {},
   "outputs": [
    {
     "data": {
      "text/plain": [
       "[451, 541]"
      ]
     },
     "execution_count": 41,
     "metadata": {},
     "output_type": "execute_result"
    }
   ],
   "source": [
    "# Aqui foram criadas as variáveis contendo o número mínimo e máximo de dias de atraso\n",
    "\n",
    "min_atraso = min(df_1['NU_DIAS_ATRASO'])\n",
    "max_atraso = max(df_1['NU_DIAS_ATRASO'])\n",
    "\n",
    "# 4 faixas foram criadas, distando em 90 dias \n",
    "\n",
    "faixa_1 = [min_atraso, min_atraso + 90]     # O array demonstra dois números. Intervalo entre [0] e [1]\n",
    "faixa_2 = [faixa_1[1], min_atraso + 2*90]\n",
    "faixa_3 = [faixa_2[1], min_atraso + 3*90]\n",
    "faixa_4 = [faixa_3[1], min_atraso + 4*90]\n",
    "\n",
    "# Visualização teste com a faixa_4\n",
    "\n",
    "faixa_4\n",
    "\n",
    "# Todos os valores com os formatos corretos, porém a data está em object "
   ]
  },
  {
   "cell_type": "markdown",
   "metadata": {},
   "source": []
  },
  {
   "cell_type": "code",
   "execution_count": 9,
   "metadata": {},
   "outputs": [],
   "source": [
    "# Explicação do processo repetido para cada faixa:\n",
    "\n",
    "## Do dataframe 1, foram delimitadas as colunas de acordo com a faixa escolhida\n",
    "## Criando um dataframe com as três colunas de interesse\n",
    "## Baseado na coluna de dias de atraso, usei apenas o range da faixa escolhida\n",
    "## o \"range\" foi dado: maior ou igual ao [0] do array criado acima e menor ou igual ao [1]\n",
    "\n",
    "teste_faixa_1 = df_1[['DT_ACORDO','NU_DIAS_ATRASO', 'RESPOSTA']][df_1['NU_DIAS_ATRASO'] >= faixa_1[0] ][df_1['NU_DIAS_ATRASO'] < faixa_1[1] ]\n",
    "teste_faixa_2 = df_1[['DT_ACORDO','NU_DIAS_ATRASO','RESPOSTA']][df_1['NU_DIAS_ATRASO'] >= faixa_2[0] ][df_1['NU_DIAS_ATRASO'] < faixa_2[1] ]\n",
    "teste_faixa_3 = df_1[['DT_ACORDO','NU_DIAS_ATRASO','RESPOSTA']][df_1['NU_DIAS_ATRASO'] >= faixa_3[0] ][df_1['NU_DIAS_ATRASO'] < faixa_3[1] ]\n",
    "teste_faixa_4 = df_1[['DT_ACORDO','NU_DIAS_ATRASO','RESPOSTA']][df_1['NU_DIAS_ATRASO'] >= faixa_4[0] ][df_1['NU_DIAS_ATRASO'] < faixa_4[1] ]\n",
    "\n",
    "#df = df_1.groupby(['DT_ACORDO'],as_index=False)['RESPOSTA'].sum()\n",
    "\n",
    "# Groupby \n",
    "\n",
    "df_r_faixa_1 = teste_faixa_1.groupby(['DT_ACORDO'],as_index=False)['RESPOSTA'].sum()\n",
    "df_r_faixa_2 = teste_faixa_2.groupby(['DT_ACORDO'],as_index=False)['RESPOSTA'].sum()\n",
    "df_r_faixa_3 = teste_faixa_3.groupby(['DT_ACORDO'],as_index=False)['RESPOSTA'].sum()\n",
    "df_r_faixa_4 = teste_faixa_4.groupby(['DT_ACORDO'],as_index=False)['RESPOSTA'].sum()\n",
    "\n",
    "\n",
    "\n",
    "#teste_faixa_1\n",
    "df_r_faixa_1  # se quiser a adesao da primeira faixa\n",
    "#df_r_faixa_2  # se quiser a adesao da segundafaixa\n",
    "#df_r_faixa_3  # se quiser a adesao da terceira faixa\n",
    "#df_r_faixa_4  # se quiser a adesao da quarta faixa\n",
    "   "
   ]
  },
  {
   "cell_type": "code",
   "execution_count": null,
   "metadata": {},
   "outputs": [],
   "source": []
  },
  {
   "cell_type": "code",
   "execution_count": null,
   "metadata": {},
   "outputs": [],
   "source": []
  }
 ],
 "metadata": {
  "kernelspec": {
   "display_name": "Python 3.9.7 ('base')",
   "language": "python",
   "name": "python3"
  },
  "language_info": {
   "codemirror_mode": {
    "name": "ipython",
    "version": 3
   },
   "file_extension": ".py",
   "mimetype": "text/x-python",
   "name": "python",
   "nbconvert_exporter": "python",
   "pygments_lexer": "ipython3",
   "version": "3.9.7"
  },
  "orig_nbformat": 4,
  "vscode": {
   "interpreter": {
    "hash": "f49206fcf84a9145e7e21228cbafa911d1ac18292303b01e865d8267a9c448f7"
   }
  }
 },
 "nbformat": 4,
 "nbformat_minor": 2
}
