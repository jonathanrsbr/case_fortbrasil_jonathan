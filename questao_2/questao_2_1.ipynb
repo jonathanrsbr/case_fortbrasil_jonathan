{
 "cells": [
  {
   "cell_type": "markdown",
   "metadata": {},
   "source": [
    " <img src = \"https://sasquadportador.blob.core.windows.net/general-images/header-blog-1.png\" > \n",
    "\n",
    "# Seleção Estagiário Data Science - Jonathan\n",
    "\n",
    "###  QUESTÃO 2.1"
   ]
  },
  {
   "cell_type": "markdown",
   "metadata": {},
   "source": [
    "Importações"
   ]
  },
  {
   "cell_type": "code",
   "execution_count": 12,
   "metadata": {},
   "outputs": [],
   "source": [
    "import pandas as pd\n",
    "import seaborn as sns\n",
    "import matplotlib.pyplot as plt\n",
    "import numpy as np\n",
    "\n",
    "base1 =  pd.read_csv('Questão 2 - Base 1.txt', delimiter = \"\\t\")"
   ]
  },
  {
   "cell_type": "markdown",
   "metadata": {},
   "source": [
    "Visualização com head"
   ]
  },
  {
   "cell_type": "code",
   "execution_count": 16,
   "metadata": {},
   "outputs": [
    {
     "data": {
      "text/html": [
       "<div>\n",
       "<style scoped>\n",
       "    .dataframe tbody tr th:only-of-type {\n",
       "        vertical-align: middle;\n",
       "    }\n",
       "\n",
       "    .dataframe tbody tr th {\n",
       "        vertical-align: top;\n",
       "    }\n",
       "\n",
       "    .dataframe thead th {\n",
       "        text-align: right;\n",
       "    }\n",
       "</style>\n",
       "<table border=\"1\" class=\"dataframe\">\n",
       "  <thead>\n",
       "    <tr style=\"text-align: right;\">\n",
       "      <th></th>\n",
       "      <th>ID_CONTA</th>\n",
       "      <th>DT_ACORDO</th>\n",
       "      <th>NU_DIAS_ATRASO</th>\n",
       "      <th>VALOR_CRELIQ</th>\n",
       "      <th>DIVIDA_ATUAL</th>\n",
       "      <th>RESPOSTA</th>\n",
       "    </tr>\n",
       "  </thead>\n",
       "  <tbody>\n",
       "    <tr>\n",
       "      <th>0</th>\n",
       "      <td>1194908</td>\n",
       "      <td>2018-11-22</td>\n",
       "      <td>221</td>\n",
       "      <td>324.38</td>\n",
       "      <td>463.73</td>\n",
       "      <td>0</td>\n",
       "    </tr>\n",
       "    <tr>\n",
       "      <th>1</th>\n",
       "      <td>1447997</td>\n",
       "      <td>2018-11-22</td>\n",
       "      <td>191</td>\n",
       "      <td>334.82</td>\n",
       "      <td>451.56</td>\n",
       "      <td>1</td>\n",
       "    </tr>\n",
       "    <tr>\n",
       "      <th>2</th>\n",
       "      <td>1035415</td>\n",
       "      <td>2018-11-22</td>\n",
       "      <td>252</td>\n",
       "      <td>1682.26</td>\n",
       "      <td>2554.18</td>\n",
       "      <td>0</td>\n",
       "    </tr>\n",
       "    <tr>\n",
       "      <th>3</th>\n",
       "      <td>1069434</td>\n",
       "      <td>2018-11-22</td>\n",
       "      <td>231</td>\n",
       "      <td>1625.01</td>\n",
       "      <td>2368.65</td>\n",
       "      <td>0</td>\n",
       "    </tr>\n",
       "    <tr>\n",
       "      <th>4</th>\n",
       "      <td>1427566</td>\n",
       "      <td>2018-11-22</td>\n",
       "      <td>270</td>\n",
       "      <td>320.07</td>\n",
       "      <td>503.25</td>\n",
       "      <td>0</td>\n",
       "    </tr>\n",
       "    <tr>\n",
       "      <th>5</th>\n",
       "      <td>1114924</td>\n",
       "      <td>2018-11-22</td>\n",
       "      <td>301</td>\n",
       "      <td>1458.19</td>\n",
       "      <td>2435.04</td>\n",
       "      <td>0</td>\n",
       "    </tr>\n",
       "    <tr>\n",
       "      <th>6</th>\n",
       "      <td>1344763</td>\n",
       "      <td>2018-11-22</td>\n",
       "      <td>262</td>\n",
       "      <td>493.42</td>\n",
       "      <td>763.84</td>\n",
       "      <td>0</td>\n",
       "    </tr>\n",
       "    <tr>\n",
       "      <th>7</th>\n",
       "      <td>1299566</td>\n",
       "      <td>2018-11-22</td>\n",
       "      <td>311</td>\n",
       "      <td>864.53</td>\n",
       "      <td>1471.99</td>\n",
       "      <td>0</td>\n",
       "    </tr>\n",
       "    <tr>\n",
       "      <th>8</th>\n",
       "      <td>981592</td>\n",
       "      <td>2018-11-22</td>\n",
       "      <td>280</td>\n",
       "      <td>343.80</td>\n",
       "      <td>551.17</td>\n",
       "      <td>0</td>\n",
       "    </tr>\n",
       "    <tr>\n",
       "      <th>9</th>\n",
       "      <td>1389426</td>\n",
       "      <td>2018-11-22</td>\n",
       "      <td>196</td>\n",
       "      <td>589.92</td>\n",
       "      <td>803.37</td>\n",
       "      <td>0</td>\n",
       "    </tr>\n",
       "  </tbody>\n",
       "</table>\n",
       "</div>"
      ],
      "text/plain": [
       "   ID_CONTA   DT_ACORDO  NU_DIAS_ATRASO  VALOR_CRELIQ  DIVIDA_ATUAL  RESPOSTA\n",
       "0   1194908  2018-11-22             221        324.38        463.73         0\n",
       "1   1447997  2018-11-22             191        334.82        451.56         1\n",
       "2   1035415  2018-11-22             252       1682.26       2554.18         0\n",
       "3   1069434  2018-11-22             231       1625.01       2368.65         0\n",
       "4   1427566  2018-11-22             270        320.07        503.25         0\n",
       "5   1114924  2018-11-22             301       1458.19       2435.04         0\n",
       "6   1344763  2018-11-22             262        493.42        763.84         0\n",
       "7   1299566  2018-11-22             311        864.53       1471.99         0\n",
       "8    981592  2018-11-22             280        343.80        551.17         0\n",
       "9   1389426  2018-11-22             196        589.92        803.37         0"
      ]
     },
     "execution_count": 16,
     "metadata": {},
     "output_type": "execute_result"
    }
   ],
   "source": [
    "base1.head(10)"
   ]
  },
  {
   "cell_type": "markdown",
   "metadata": {},
   "source": [
    "Data do primeiro e do último acordo do dataframe"
   ]
  },
  {
   "cell_type": "code",
   "execution_count": 6,
   "metadata": {},
   "outputs": [
    {
     "name": "stdout",
     "output_type": "stream",
     "text": [
      "O primeiro acordo da base ocorreu em:  2018-11-22\n",
      "O último acordo da base ocorreu em:  2019-06-04\n"
     ]
    }
   ],
   "source": [
    "print(\"O primeiro acordo da base ocorreu em: \", min(base1[\"DT_ACORDO\"]))\n",
    "\n",
    "print(\"O último acordo da base ocorreu em: \", max(base1[\"DT_ACORDO\"]))"
   ]
  },
  {
   "cell_type": "code",
   "execution_count": 15,
   "metadata": {},
   "outputs": [
    {
     "name": "stdout",
     "output_type": "stream",
     "text": [
      "181\n",
      "540\n"
     ]
    }
   ],
   "source": [
    "print(min(base1[\"NU_DIAS_ATRASO\"]))\n",
    "\n",
    "# F1 = 181 - 281   F2 = 282 - 382  F3 = 383 - 483  F4 = 484 - 540\n",
    "\n",
    "# % de 1 na [\"RESPOSTA\"] por faixa\n",
    "\n",
    "print(max(base1[\"NU_DIAS_ATRASO\"]))\n",
    " \n",
    " x <     > y  count\n"
   ]
  },
  {
   "cell_type": "code",
   "execution_count": 8,
   "metadata": {},
   "outputs": [
    {
     "name": "stdout",
     "output_type": "stream",
     "text": [
      "<class 'pandas.core.frame.DataFrame'>\n",
      "RangeIndex: 72533 entries, 0 to 72532\n",
      "Data columns (total 6 columns):\n",
      " #   Column          Non-Null Count  Dtype  \n",
      "---  ------          --------------  -----  \n",
      " 0   ID_CONTA        72533 non-null  int64  \n",
      " 1   DT_ACORDO       72533 non-null  object \n",
      " 2   NU_DIAS_ATRASO  72533 non-null  int64  \n",
      " 3   VALOR_CRELIQ    72533 non-null  float64\n",
      " 4   DIVIDA_ATUAL    72533 non-null  float64\n",
      " 5   RESPOSTA        72533 non-null  int64  \n",
      "dtypes: float64(2), int64(3), object(1)\n",
      "memory usage: 3.3+ MB\n"
     ]
    }
   ],
   "source": [
    "base1.info()\n",
    "\n",
    "# Todos os valores com os formatos corretos, porém a data está em object"
   ]
  },
  {
   "cell_type": "markdown",
   "metadata": {},
   "source": [
    "Transformando a coluna \"DT_ACORDO\" em data"
   ]
  },
  {
   "cell_type": "code",
   "execution_count": 9,
   "metadata": {},
   "outputs": [],
   "source": [
    "base1[\"DT_ACORDO\"] = pd.to_datetime(base1[\"DT_ACORDO\"])\n",
    "\n"
   ]
  },
  {
   "cell_type": "code",
   "execution_count": 10,
   "metadata": {},
   "outputs": [
    {
     "name": "stdout",
     "output_type": "stream",
     "text": [
      "<class 'pandas.core.frame.DataFrame'>\n",
      "RangeIndex: 72533 entries, 0 to 72532\n",
      "Data columns (total 6 columns):\n",
      " #   Column          Non-Null Count  Dtype         \n",
      "---  ------          --------------  -----         \n",
      " 0   ID_CONTA        72533 non-null  int64         \n",
      " 1   DT_ACORDO       72533 non-null  datetime64[ns]\n",
      " 2   NU_DIAS_ATRASO  72533 non-null  int64         \n",
      " 3   VALOR_CRELIQ    72533 non-null  float64       \n",
      " 4   DIVIDA_ATUAL    72533 non-null  float64       \n",
      " 5   RESPOSTA        72533 non-null  int64         \n",
      "dtypes: datetime64[ns](1), float64(2), int64(3)\n",
      "memory usage: 3.3 MB\n"
     ]
    }
   ],
   "source": [
    "base1.info()\n",
    "\n",
    "# TRansformação executada com sucesso"
   ]
  },
  {
   "cell_type": "code",
   "execution_count": 10,
   "metadata": {},
   "outputs": [
    {
     "data": {
      "text/plain": [
       "'2019-06-04'"
      ]
     },
     "execution_count": 10,
     "metadata": {},
     "output_type": "execute_result"
    }
   ],
   "source": [
    "b4 = pd.read_csv(\"Questão 2 - Base 4.txt\", delimiter = \"\\t\")\n",
    "\n",
    "max(b3[\"DT_ACORDO\"])"
   ]
  }
 ],
 "metadata": {
  "kernelspec": {
   "display_name": "Python 3.9.7 ('base')",
   "language": "python",
   "name": "python3"
  },
  "language_info": {
   "codemirror_mode": {
    "name": "ipython",
    "version": 3
   },
   "file_extension": ".py",
   "mimetype": "text/x-python",
   "name": "python",
   "nbconvert_exporter": "python",
   "pygments_lexer": "ipython3",
   "version": "3.9.7"
  },
  "orig_nbformat": 4,
  "vscode": {
   "interpreter": {
    "hash": "f49206fcf84a9145e7e21228cbafa911d1ac18292303b01e865d8267a9c448f7"
   }
  }
 },
 "nbformat": 4,
 "nbformat_minor": 2
}
